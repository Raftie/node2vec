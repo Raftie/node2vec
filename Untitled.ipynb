{
 "cells": [
  {
   "cell_type": "code",
   "execution_count": 1,
   "metadata": {},
   "outputs": [],
   "source": [
    "# Translation test"
   ]
  },
  {
   "cell_type": "code",
   "execution_count": 2,
   "metadata": {},
   "outputs": [],
   "source": [
    "import pandas as pd\n",
    "import networkx as nx\n",
    "from node2vec import Node2Vec\n",
    "import numpy as np"
   ]
  },
  {
   "cell_type": "code",
   "execution_count": 3,
   "metadata": {},
   "outputs": [],
   "source": [
    "df = pd.read_csv(\"/users/raf/googledrive/DOC/data/ccf_preprocessed.csv\", index_col=0, nrows=1000)"
   ]
  },
  {
   "cell_type": "code",
   "execution_count": 4,
   "metadata": {},
   "outputs": [],
   "source": [
    "G_large = nx.Graph()\n",
    "G_large.add_nodes_from(df.TX_ID)\n",
    "G_large.add_nodes_from(df.CARD_PAN_ID.unique())\n",
    "G_large.add_nodes_from(df.TERM_MIDUID.unique())\n",
    "G_large.add_edges_from(zip(df.TX_ID, df.TERM_MIDUID))\n",
    "G_large.add_edges_from(zip(df.TX_ID, df.CARD_PAN_ID))"
   ]
  },
  {
   "cell_type": "code",
   "execution_count": 5,
   "metadata": {},
   "outputs": [],
   "source": [
    "G_large_int_labels = nx.convert_node_labels_to_integers(G_large, label_attribute='node_id')"
   ]
  },
  {
   "cell_type": "code",
   "execution_count": 6,
   "metadata": {},
   "outputs": [
    {
     "name": "stderr",
     "output_type": "stream",
     "text": [
      "100%|██████████| 2199/2199 [00:02<00:00, 807.72it/s]\n",
      "100%|██████████| 2199/2199 [00:01<00:00, 1878.26it/s]\n",
      "100%|██████████| 2199/2199 [00:00<00:00, 2342.49it/s]\n"
     ]
    },
    {
     "name": "stdout",
     "output_type": "stream",
     "text": [
      "finished probs\n",
      "finished precompute\n"
     ]
    }
   ],
   "source": [
    "n2v2 = Node2Vec(G_large, workers=8, quiet=False, experimental=True, p=2, q=3)"
   ]
  },
  {
   "cell_type": "code",
   "execution_count": 7,
   "metadata": {},
   "outputs": [],
   "source": [
    "res = n2v2.fit()"
   ]
  },
  {
   "cell_type": "code",
   "execution_count": null,
   "metadata": {},
   "outputs": [],
   "source": []
  },
  {
   "cell_type": "code",
   "execution_count": 9,
   "metadata": {},
   "outputs": [
    {
     "data": {
      "text/plain": [
       "array([-3.9657443e-03, -1.3247197e-03,  1.9087563e-03, -1.8449685e-03,\n",
       "       -2.0482014e-03, -1.4869565e-03,  3.8384427e-03, -1.0381746e-03,\n",
       "        3.2364910e-03,  1.2059858e-03, -3.9130105e-03,  1.1821038e-03,\n",
       "        3.2180534e-03, -6.7562726e-04, -6.3331902e-04, -1.9722614e-03,\n",
       "        1.6016994e-03,  2.8862318e-03,  1.7307582e-03, -3.6601021e-05,\n",
       "       -1.9124714e-03,  1.7299637e-03, -3.1688376e-04, -9.3866035e-04,\n",
       "       -6.0246786e-04,  1.5495979e-03,  2.2346571e-03, -1.0923437e-03,\n",
       "        5.8775430e-04, -1.6415841e-03, -3.0087242e-03,  8.7844615e-04,\n",
       "       -3.4626809e-04, -3.8713592e-04,  1.8569492e-03, -3.6198103e-03,\n",
       "       -2.2821913e-03,  2.2521839e-03, -8.2768773e-04, -3.7182507e-03,\n",
       "       -3.3362317e-03,  1.6533405e-03, -1.3057594e-03, -2.2923236e-04,\n",
       "        6.5560261e-04, -2.9179223e-03,  2.8437320e-03, -1.7007556e-03,\n",
       "       -1.2112036e-03, -4.8650772e-04,  1.5384029e-03, -4.7874829e-04,\n",
       "        3.9911506e-04,  2.8264383e-03, -2.3438784e-03,  1.3533697e-03,\n",
       "        6.0753775e-04,  1.3607943e-03,  2.0047687e-03, -3.3295350e-03,\n",
       "        1.6505922e-03, -4.3257891e-04, -1.5177333e-03, -2.4517509e-03,\n",
       "        3.3877320e-03, -3.7400816e-03,  6.2253722e-04, -2.6636111e-04,\n",
       "        3.0992504e-03,  3.9202810e-04, -2.3460553e-04,  6.9461734e-05,\n",
       "        5.0839753e-04,  1.9712085e-03, -2.0944639e-03,  3.5226033e-03,\n",
       "        3.4275732e-04, -2.2570351e-03, -1.0762684e-03, -1.9778456e-03,\n",
       "        3.6136848e-03,  1.9470777e-04,  1.8761066e-03, -1.0892235e-03,\n",
       "        8.0020443e-05,  1.5312020e-03,  3.7721722e-04, -1.1632503e-03,\n",
       "       -3.7851282e-03, -7.3350384e-05, -2.8092824e-03, -1.6302981e-03,\n",
       "        3.0232139e-03,  3.6026656e-03, -5.5679347e-04, -2.1470508e-03,\n",
       "        2.3375927e-03,  4.8582116e-04,  4.0602619e-03,  2.2209943e-03,\n",
       "       -1.3632069e-03, -3.3806814e-03,  1.4948699e-03, -3.4744467e-03,\n",
       "       -9.4935589e-04,  2.7652853e-03, -2.3957591e-03, -1.6999112e-03,\n",
       "       -9.2392840e-04, -3.4522878e-03,  1.4010017e-03,  7.1834557e-04,\n",
       "        4.8094997e-04, -3.1711056e-03, -3.2430035e-03,  4.0435498e-03,\n",
       "        1.8489396e-03, -4.0441444e-03, -3.7712688e-04,  1.3276914e-03,\n",
       "       -1.9954150e-03, -2.6103926e-03,  2.2126045e-03,  2.0204780e-03,\n",
       "        3.4970846e-03, -3.8296312e-06, -2.9799389e-03,  3.5247977e-03],\n",
       "      dtype=float32)"
      ]
     },
     "execution_count": 9,
     "metadata": {},
     "output_type": "execute_result"
    }
   ],
   "source": [
    "res.wv['t1']"
   ]
  },
  {
   "cell_type": "code",
   "execution_count": 50,
   "metadata": {},
   "outputs": [],
   "source": [
    "A = nx.adjacency_matrix(G_large)"
   ]
  },
  {
   "cell_type": "code",
   "execution_count": 54,
   "metadata": {},
   "outputs": [
    {
     "data": {
      "text/plain": [
       "<1x2199 sparse matrix of type '<class 'numpy.int64'>'\n",
       "\twith 2 stored elements in Compressed Sparse Row format>"
      ]
     },
     "execution_count": 54,
     "metadata": {},
     "output_type": "execute_result"
    }
   ],
   "source": [
    "A[0]"
   ]
  },
  {
   "cell_type": "code",
   "execution_count": 6,
   "metadata": {},
   "outputs": [],
   "source": [
    "t = dict(zip(G_large.nodes(), range(G_large.number_of_nodes())))"
   ]
  },
  {
   "cell_type": "code",
   "execution_count": 9,
   "metadata": {},
   "outputs": [
    {
     "data": {
      "text/plain": [
       "int"
      ]
     },
     "execution_count": 9,
     "metadata": {},
     "output_type": "execute_result"
    }
   ],
   "source": [
    "type(t['t1'])"
   ]
  },
  {
   "cell_type": "code",
   "execution_count": 51,
   "metadata": {},
   "outputs": [],
   "source": [
    "B = nx.adjacency_matrix(G_large_int_labels)"
   ]
  },
  {
   "cell_type": "code",
   "execution_count": 52,
   "metadata": {},
   "outputs": [
    {
     "data": {
      "text/plain": [
       "<2199x2199 sparse matrix of type '<class 'numpy.int64'>'\n",
       "\twith 4000 stored elements in Compressed Sparse Row format>"
      ]
     },
     "execution_count": 52,
     "metadata": {},
     "output_type": "execute_result"
    }
   ],
   "source": [
    "B"
   ]
  },
  {
   "cell_type": "code",
   "execution_count": 11,
   "metadata": {},
   "outputs": [],
   "source": [
    "attribute_dict = nx.get_node_attributes(G_large_int_labels, 'node_id')"
   ]
  },
  {
   "cell_type": "code",
   "execution_count": 12,
   "metadata": {},
   "outputs": [],
   "source": [
    "trans_dict = {v:k for k,v in attribute_dict.items()}"
   ]
  },
  {
   "cell_type": "code",
   "execution_count": 14,
   "metadata": {},
   "outputs": [
    {
     "data": {
      "text/plain": [
       "False"
      ]
     },
     "execution_count": 14,
     "metadata": {},
     "output_type": "execute_result"
    }
   ],
   "source": [
    "trans_dict"
   ]
  },
  {
   "cell_type": "code",
   "execution_count": 33,
   "metadata": {},
   "outputs": [
    {
     "data": {
      "text/plain": [
       "array([ 0.01631081, -0.73189676,  0.09307295, -0.15652393, -0.32389212,\n",
       "        0.08615805, -0.4794875 , -0.36067587, -0.24619415, -0.26105294,\n",
       "       -0.02742475,  0.5375098 ,  0.44954708, -0.43828455, -0.50642014,\n",
       "        0.32090646, -0.31942362,  0.19045563,  0.7935724 ,  0.16009699,\n",
       "        0.07851785,  0.03663776,  0.13475259, -0.48544797, -0.13126893,\n",
       "       -0.7318394 , -0.50003976, -0.31720504,  0.3117376 ,  0.4181148 ,\n",
       "       -0.27592447, -0.15101999,  0.20469512, -0.05036028, -0.6795185 ,\n",
       "        0.7955746 ,  0.3467865 ,  0.8373621 , -0.13518602,  0.13514665,\n",
       "       -0.08686141,  0.32448536,  0.30648664,  0.24711329, -0.0994714 ,\n",
       "       -0.01902182, -0.44094184, -0.6584018 ,  0.01601167, -0.03657558,\n",
       "       -0.49767977,  0.1273389 ,  0.42899573, -0.03654311,  0.02479409,\n",
       "        0.05446247, -0.5982979 , -0.08746201,  0.1610436 ,  0.4465497 ,\n",
       "        0.47112757, -0.37386385, -0.56373006,  0.51877636, -0.09022952,\n",
       "       -0.55928427, -0.5038493 ,  0.0292143 , -0.21837059, -0.6067898 ,\n",
       "       -0.54454935,  0.4003244 , -0.4076392 ,  0.62187225,  0.21471277,\n",
       "        0.5858703 ,  0.22791734,  0.08395286, -0.5067315 ,  0.2646151 ,\n",
       "        0.18866095,  0.15333086, -0.33162436, -0.11747792, -0.21766995,\n",
       "        0.06460628,  0.5908768 , -0.09081952, -0.31946087,  0.5819284 ,\n",
       "        0.32209584, -0.33391434, -0.73538506,  0.7987254 , -0.34815732,\n",
       "        0.19165021,  0.29390994,  0.10673491, -0.68661296,  0.04702384,\n",
       "       -0.14558421, -0.1879951 , -0.23060113, -0.46001494,  0.3208307 ,\n",
       "       -0.1881675 , -0.2139275 ,  0.1740803 , -0.65899247,  0.5692    ,\n",
       "        0.2287429 , -0.18883172, -0.58651   , -0.24511853, -0.2479091 ,\n",
       "       -0.3420909 ,  0.5553508 ,  0.395128  , -0.3024025 , -0.24942924,\n",
       "       -0.00677219,  0.05554422, -0.09147297, -0.58788633,  0.34031528,\n",
       "       -0.24250734, -0.43894854,  0.27383137], dtype=float32)"
      ]
     },
     "execution_count": 33,
     "metadata": {},
     "output_type": "execute_result"
    }
   ],
   "source": [
    "res.wv[str(trans_dict['t1'])]"
   ]
  },
  {
   "cell_type": "code",
   "execution_count": 37,
   "metadata": {},
   "outputs": [],
   "source": [
    "embeddings = np.array(res.wv)"
   ]
  },
  {
   "cell_type": "code",
   "execution_count": 41,
   "metadata": {},
   "outputs": [
    {
     "ename": "TypeError",
     "evalue": "'slice' object is not iterable",
     "output_type": "error",
     "traceback": [
      "\u001b[0;31m---------------------------------------------------------------------------\u001b[0m",
      "\u001b[0;31mTypeError\u001b[0m                                 Traceback (most recent call last)",
      "\u001b[0;32m<ipython-input-41-115bb86678bb>\u001b[0m in \u001b[0;36m<module>\u001b[0;34m\u001b[0m\n\u001b[0;32m----> 1\u001b[0;31m \u001b[0mres\u001b[0m\u001b[0;34m.\u001b[0m\u001b[0mwv\u001b[0m\u001b[0;34m[\u001b[0m\u001b[0;34m:\u001b[0m\u001b[0;34m]\u001b[0m\u001b[0;34m\u001b[0m\u001b[0;34m\u001b[0m\u001b[0m\n\u001b[0m",
      "\u001b[0;32m~/opt/anaconda3/envs/nodevec_develop/lib/python3.7/site-packages/gensim/models/keyedvectors.py\u001b[0m in \u001b[0;36m__getitem__\u001b[0;34m(self, entities)\u001b[0m\n\u001b[1;32m    353\u001b[0m             \u001b[0;32mreturn\u001b[0m \u001b[0mself\u001b[0m\u001b[0;34m.\u001b[0m\u001b[0mget_vector\u001b[0m\u001b[0;34m(\u001b[0m\u001b[0mentities\u001b[0m\u001b[0;34m)\u001b[0m\u001b[0;34m\u001b[0m\u001b[0;34m\u001b[0m\u001b[0m\n\u001b[1;32m    354\u001b[0m \u001b[0;34m\u001b[0m\u001b[0m\n\u001b[0;32m--> 355\u001b[0;31m         \u001b[0;32mreturn\u001b[0m \u001b[0mvstack\u001b[0m\u001b[0;34m(\u001b[0m\u001b[0;34m[\u001b[0m\u001b[0mself\u001b[0m\u001b[0;34m.\u001b[0m\u001b[0mget_vector\u001b[0m\u001b[0;34m(\u001b[0m\u001b[0mentity\u001b[0m\u001b[0;34m)\u001b[0m \u001b[0;32mfor\u001b[0m \u001b[0mentity\u001b[0m \u001b[0;32min\u001b[0m \u001b[0mentities\u001b[0m\u001b[0;34m]\u001b[0m\u001b[0;34m)\u001b[0m\u001b[0;34m\u001b[0m\u001b[0;34m\u001b[0m\u001b[0m\n\u001b[0m\u001b[1;32m    356\u001b[0m \u001b[0;34m\u001b[0m\u001b[0m\n\u001b[1;32m    357\u001b[0m     \u001b[0;32mdef\u001b[0m \u001b[0m__contains__\u001b[0m\u001b[0;34m(\u001b[0m\u001b[0mself\u001b[0m\u001b[0;34m,\u001b[0m \u001b[0mentity\u001b[0m\u001b[0;34m)\u001b[0m\u001b[0;34m:\u001b[0m\u001b[0;34m\u001b[0m\u001b[0;34m\u001b[0m\u001b[0m\n",
      "\u001b[0;31mTypeError\u001b[0m: 'slice' object is not iterable"
     ]
    }
   ],
   "source": []
  },
  {
   "cell_type": "code",
   "execution_count": null,
   "metadata": {},
   "outputs": [],
   "source": []
  }
 ],
 "metadata": {
  "kernelspec": {
   "display_name": "node2vec_develop",
   "language": "python",
   "name": "node2vec_develop"
  },
  "language_info": {
   "codemirror_mode": {
    "name": "ipython",
    "version": 3
   },
   "file_extension": ".py",
   "mimetype": "text/x-python",
   "name": "python",
   "nbconvert_exporter": "python",
   "pygments_lexer": "ipython3",
   "version": "3.7.9"
  },
  "toc": {
   "base_numbering": 1,
   "nav_menu": {},
   "number_sections": true,
   "sideBar": true,
   "skip_h1_title": false,
   "title_cell": "Table of Contents",
   "title_sidebar": "Contents",
   "toc_cell": false,
   "toc_position": {},
   "toc_section_display": true,
   "toc_window_display": false
  }
 },
 "nbformat": 4,
 "nbformat_minor": 4
}
